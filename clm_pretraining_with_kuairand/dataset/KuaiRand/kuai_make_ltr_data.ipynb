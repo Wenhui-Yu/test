{
 "cells": [
  {
   "cell_type": "code",
   "execution_count": 316,
   "id": "f894f3fc-be13-4345-854b-93af513c6d77",
   "metadata": {},
   "outputs": [],
   "source": [
    "import pandas as pd\n",
    "\n",
    "import random\n",
    "import json\n",
    "\n",
    "import os"
   ]
  },
  {
   "cell_type": "code",
   "execution_count": 317,
   "id": "b0cead76-2d9d-4d99-93a7-cac008b2c3d1",
   "metadata": {},
   "outputs": [],
   "source": [
    "# train index\n",
    "# row -> [(item_id, time_ms, click, like, follow, comment, forward, longview, pltr, pwtr, pcmtr, pftr, plvtr), ()]\n",
    "def index_encoding_item(ltr_sample):\n",
    "    item_id_set = set()\n",
    "    for sample in ltr_sample:\n",
    "        for item in sample:\n",
    "            item_id_set.add(item[0])\n",
    "    print (\"item number=\" ,len(item_id_set))\n",
    "    \n",
    "    item_num2id = list(item_id_set)\n",
    "    item_num2id.sort()\n",
    "\n",
    "    item_id2num = {}\n",
    "    for num in range(0, len(item_id_set)):\n",
    "        item_id2num[item_num2id[num]] = num\n",
    "\n",
    "    ltr_sample_number = []\n",
    "    for sample in ltr_sample:\n",
    "        ltr_sample_single_item = []\n",
    "        for (item_id, time_ms, click, like, follow, comment, forward, longview, pltr, pwtr, pcmtr, pftr, plvtr) in sample:\n",
    "            ltr_sample_single_item.append([item_id2num[item_id], time_ms, click, like, follow, comment, forward, longview, pltr, pwtr, pcmtr, pftr, plvtr])\n",
    "        ltr_sample_number.append(ltr_sample_single_item)\n",
    "\n",
    "    ltr_sample = ltr_sample_number\n",
    "    return ltr_sample, item_id2num"
   ]
  },
  {
   "cell_type": "code",
   "execution_count": 318,
   "id": "4146d1fe-d3e7-4f37-ba7f-c9d847ff2f11",
   "metadata": {},
   "outputs": [],
   "source": [
    "# filter test \n",
    "def filter_test_data(ltr_sample, item_id2num):\n",
    "    new_data = []\n",
    "    for sample in ltr_sample:\n",
    "        new_data_single_item = []\n",
    "        for (item_id, time_ms, click, like, follow, comment, forward, longview, pltr, pwtr, pcmtr, pftr, plvtr) in sample:\n",
    "            if item_id in item_id2num:\n",
    "                new_data_single_item.append([item_id2num[item_id], time_ms, click, like, follow, comment, forward, longview, pltr, pwtr, pcmtr, pftr, plvtr])\n",
    "        new_data.append(new_data_single_item)\n",
    "\n",
    "    return new_data\n",
    "\n",
    "# write json\n",
    "def write_data(path, data):\n",
    "    f = open(path, 'w')\n",
    "    jsObj = json.dumps(data)\n",
    "    f.write(jsObj)\n",
    "    f.close()"
   ]
  },
  {
   "cell_type": "code",
   "execution_count": 333,
   "id": "f5b00c88-71d2-4d27-91fc-f9b6693ffaf2",
   "metadata": {},
   "outputs": [
    {
     "name": "stdout",
     "output_type": "stream",
     "text": [
      "sample number= 843819 , data_path= ../CLM/clm_pretraining_with_kuairand/dataset/KuaiRand/kuairand_ltr_data.json\n",
      "data[:2]= [[0, 25588, 1649467982289, 0, 0, 0, 0, 0, 0, 0.0545779, 0.03012991, 0.01782736, 0.0091756, 0.6946429], [0, 7695, 1649477382190, 0, 0, 0, 0, 0, 0, 0.06123724, 0.02370021, 0.01699675, 0.01140463, 0.70763409]]\n"
     ]
    }
   ],
   "source": [
    "DIR = '../CLM/clm_pretraining_with_kuairand/dataset/KuaiRand/'\n",
    "origin_ltr_data_path = DIR + 'kuairand_ltr_data.json'\n",
    "\n",
    "path_ltr_train = DIR + 'kuairand_ltr_data_train.json'\n",
    "path_ltr_test = DIR + 'kuairand_ltr_data_test.json'\n",
    "\n",
    "# 1 load data\n",
    "with open(origin_ltr_data_path) as f:\n",
    "    line = f.readline()\n",
    "    data = json.loads(line)\n",
    "f.close()\n",
    "row_num = len(data)\n",
    "print (\"sample number=\", row_num, \", data_path=\", origin_ltr_data_path)\n",
    "print(\"data[:2]=\", data[:2])"
   ]
  },
  {
   "cell_type": "code",
   "execution_count": 334,
   "id": "0a364256-b3c0-481c-9f25-e16e4d47d4db",
   "metadata": {},
   "outputs": [
    {
     "name": "stdout",
     "output_type": "stream",
     "text": [
      "user_num= 960\n"
     ]
    }
   ],
   "source": [
    "# 1 N user && N user_history_list\n",
    "\n",
    "user_set = set()\n",
    "for (user_id, item_id, time_ms, click, like, follow, comment, forward, longview, pltr, pwtr, pcmtr, pftr, plvtr) in data:\n",
    "    user_set.add(user_id)\n",
    "user_num = len(user_set)\n",
    "print(\"user_num=\", user_num) "
   ]
  },
  {
   "cell_type": "code",
   "execution_count": 335,
   "id": "30d233b2-d443-4b08-abed-3f7d85a89865",
   "metadata": {},
   "outputs": [],
   "source": [
    "user_history_list = []\n",
    "for i in range(user_num):\n",
    "    user_history_list.append([])\n",
    "for (user_id, item_id, time_ms, click, like, follow, comment, forward, longview, pltr, pwtr, pcmtr, pftr, plvtr) in data:\n",
    "    user_history_list[user_id].append([item_id, time_ms, click, like, follow, comment, forward, longview, pltr, pwtr, pcmtr, pftr, plvtr])\n",
    "# user_history_list[0]"
   ]
  },
  {
   "cell_type": "code",
   "execution_count": 336,
   "id": "77d59dee-6dd9-4eba-802e-d32ac101485b",
   "metadata": {},
   "outputs": [
    {
     "name": "stdout",
     "output_type": "stream",
     "text": [
      "len(user_history_list)= 960\n"
     ]
    }
   ],
   "source": [
    "print(\"len(user_history_list)=\", len(user_history_list))"
   ]
  },
  {
   "cell_type": "code",
   "execution_count": 337,
   "id": "64581bbf-98ba-401c-afbb-cbc8787b3027",
   "metadata": {},
   "outputs": [],
   "source": [
    "# 2 user_history_list sort by time_ms\n",
    "# row -> [（item_id, time_ms, click, like, follow, comment, forward, longview, pltr, pwtr, pcmtr, pftr, plvtr）, ()]\n",
    "user_history_list_by_time = []\n",
    "for row in user_history_list:\n",
    "    sorted_row = sorted(row, key=lambda x: x[1])\n",
    "    user_history_list_by_time.append(row)"
   ]
  },
  {
   "cell_type": "code",
   "execution_count": 338,
   "id": "39662af2-3c6d-4502-9803-dcdb07e8b559",
   "metadata": {},
   "outputs": [
    {
     "name": "stdout",
     "output_type": "stream",
     "text": [
      "length= 12  num= 1\n",
      "len(sorted_dict)= 746\n"
     ]
    }
   ],
   "source": [
    "# 3  count distribution\n",
    "dic_action_list_length = {}\n",
    "for row in user_history_list_by_time:\n",
    "    length = len(row)\n",
    "    try: dic_action_list_length[length] += 1\n",
    "    except: dic_action_list_length[length] = 1\n",
    "\n",
    "sorted_keys = sorted(dic_action_list_length.keys())\n",
    "\n",
    "sorted_dict = {}\n",
    "for key in sorted_keys:\n",
    "    sorted_dict[key] = dic_action_list_length[key]\n",
    "\n",
    "for key, value in sorted_dict.items():\n",
    "    print (\"length=\", key, \" num=\", value)\n",
    "    break\n",
    "print (\"len(sorted_dict)=\", len(sorted_dict))"
   ]
  },
  {
   "cell_type": "code",
   "execution_count": 339,
   "id": "4d9d3f61-34c6-40c6-9586-25c4ae07d9e9",
   "metadata": {},
   "outputs": [
    {
     "name": "stdout",
     "output_type": "stream",
     "text": [
      "ation_list length: 0-100 num: 65\n",
      "ation_list length: 100-200 num: 80\n",
      "ation_list length: 200-300 num: 94\n",
      "ation_list length: 300-400 num: 71\n",
      "ation_list length: 400-500 num: 69\n",
      "ation_list length: 500-1000 num: 267\n",
      "ation_list length: 1000-2000 num: 229\n",
      "ation_list length: 2000-2500 num: 40\n",
      "ation_list length: 2500-6000 num: 45\n"
     ]
    }
   ],
   "source": [
    "dic_table = {}\n",
    "for key, value in sorted_dict.items():\n",
    "    if (key <= 100):\n",
    "        try:dic_table['0-100'] += value;\n",
    "        except: dic_table['0-100'] = value\n",
    "    elif (key <= 200):\n",
    "        try:dic_table['100-200'] += value;\n",
    "        except: dic_table['100-200'] = value\n",
    "    elif (key <= 300):\n",
    "        try:dic_table['200-300'] += value;\n",
    "        except: dic_table['200-300'] = value\n",
    "    elif (key <= 400):\n",
    "        try:dic_table['300-400'] += value;\n",
    "        except: dic_table['300-400'] = value\n",
    "    elif (key <= 500):\n",
    "        try:dic_table['400-500'] += value;\n",
    "        except: dic_table['400-500'] = value\n",
    "    elif (key <= 1000):\n",
    "        try:dic_table['500-1000'] += value;\n",
    "        except: dic_table['500-1000'] = value\n",
    "    elif (key <= 2000):\n",
    "        try:dic_table['1000-2000'] += value;\n",
    "        except: dic_table['1000-2000'] = value\n",
    "    elif (key <= 2500):\n",
    "        try:dic_table['2000-2500'] += value;\n",
    "        except: dic_table['2000-2500'] = value\n",
    "    elif (key <= 6000):\n",
    "        try:dic_table['2500-6000'] += value;\n",
    "        except: dic_table['2500-6000'] = value\n",
    "\n",
    "for key, value in dic_table.items():\n",
    "    print(\"ation_list length:\", key, \"num:\", value)"
   ]
  },
  {
   "cell_type": "code",
   "execution_count": 340,
   "id": "ffd4b8ab-7c02-4167-b2bf-1894c38be542",
   "metadata": {},
   "outputs": [
    {
     "name": "stdout",
     "output_type": "stream",
     "text": [
      "len(user_history_list_by_time)= 960\n",
      "step= 30 , candidate_set_size= 100 , len(ltr_sample)= 25541\n"
     ]
    }
   ],
   "source": [
    "# 4 set & step=\n",
    "# row -> [（item_id, time_ms, click, like, follow, comment, forward, longview, pltr, pwtr, pcmtr, pftr, plvtr）, ()]\n",
    "ltr_sample = []\n",
    "candidate_set_size = 100\n",
    "step = 30\n",
    "for row in user_history_list_by_time:\n",
    "    length = len(row)\n",
    "\n",
    "    if length <= candidate_set_size:\n",
    "        ltr_sample.append(row)\n",
    "    else:\n",
    "        start = 0\n",
    "        end = candidate_set_size\n",
    "        while end <= length:\n",
    "            ltr_sample.append(row[start:end])\n",
    "            start = start+step\n",
    "            end = start+candidate_set_size\n",
    "print(\"len(user_history_list_by_time)=\", len(user_history_list_by_time))\n",
    "print(\"step=\", step, \", candidate_set_size=\", candidate_set_size ,\", len(ltr_sample)=\", len(ltr_sample))\n",
    "        "
   ]
  },
  {
   "cell_type": "code",
   "execution_count": 341,
   "id": "ba460ea3-e48e-483f-80f8-12688c53c345",
   "metadata": {},
   "outputs": [],
   "source": [
    "# 5 shuffle\n",
    "random.shuffle(ltr_sample)"
   ]
  },
  {
   "cell_type": "code",
   "execution_count": 342,
   "id": "18cdcef8-92c0-407c-bdb4-d89ae2b6b12d",
   "metadata": {},
   "outputs": [
    {
     "name": "stdout",
     "output_type": "stream",
     "text": [
      "sample_number= 25541 , train_number= 22986 , test_number= 2555\n",
      "len(train_data_ltr_sample)= 22986 , len(test_data_ltr_sample)= 2555\n"
     ]
    }
   ],
   "source": [
    "# 6 spilte train:test=9:1\n",
    "sample_number = len(ltr_sample)\n",
    "train_number = int(len(ltr_sample) / 10) * 9\n",
    "test_number = sample_number - train_number\n",
    "print (\"sample_number=\",sample_number, \", train_number=\", train_number, \", test_number=\", test_number)\n",
    "\n",
    "train_data_ltr_sample = ltr_sample[0:train_number]\n",
    "test_data_ltr_sample = ltr_sample[train_number:]\n",
    "\n",
    "print (\"len(train_data_ltr_sample)=\", len(train_data_ltr_sample), \", len(test_data_ltr_sample)=\", len(test_data_ltr_sample))"
   ]
  },
  {
   "cell_type": "code",
   "execution_count": 343,
   "id": "4f75fed3-e3da-4953-a968-839163a98646",
   "metadata": {},
   "outputs": [],
   "source": [
    "# train_data_ltr_sample[0]"
   ]
  },
  {
   "cell_type": "code",
   "execution_count": 344,
   "id": "d6f4e3ef-3244-465f-b8d0-b4ad18e6fefe",
   "metadata": {},
   "outputs": [
    {
     "name": "stdout",
     "output_type": "stream",
     "text": [
      "item number= 25701\n"
     ]
    }
   ],
   "source": [
    "# 7 train index\n",
    "train_data_ltr_sample, item_id2num = index_encoding_item(train_data_ltr_sample)"
   ]
  },
  {
   "cell_type": "code",
   "execution_count": 345,
   "id": "30053773-add8-4d00-8b6d-4ca80c656c42",
   "metadata": {},
   "outputs": [
    {
     "name": "stdout",
     "output_type": "stream",
     "text": [
      "test sample number= 2555\n"
     ]
    }
   ],
   "source": [
    "# 8 test item filter\n",
    "test_data_ltr_sample = filter_test_data(test_data_ltr_sample, item_id2num)\n",
    "print (\"test sample number=\", len(test_data_ltr_sample))\n",
    "# test_data_ltr_sample[0]"
   ]
  },
  {
   "cell_type": "code",
   "execution_count": 346,
   "id": "1abca93c-af73-4a35-a9d4-dd910bf63a58",
   "metadata": {},
   "outputs": [],
   "source": [
    "write_data(path_ltr_train, train_data_ltr_sample)\n",
    "write_data(path_ltr_test, test_data_ltr_sample)"
   ]
  },
  {
   "cell_type": "code",
   "execution_count": null,
   "id": "a5c546f5-80ba-4ab7-b705-db037d6ae8d0",
   "metadata": {},
   "outputs": [],
   "source": []
  },
  {
   "cell_type": "code",
   "execution_count": null,
   "id": "159f01d2-4cf4-4548-bab4-e4a09dec0330",
   "metadata": {},
   "outputs": [],
   "source": []
  }
 ],
 "metadata": {
  "kernelspec": {
   "display_name": "Python 3 (ipykernel)",
   "language": "python",
   "name": "python3"
  },
  "language_info": {
   "codemirror_mode": {
    "name": "ipython",
    "version": 3
   },
   "file_extension": ".py",
   "mimetype": "text/x-python",
   "name": "python",
   "nbconvert_exporter": "python",
   "pygments_lexer": "ipython3",
   "version": "3.8.5"
  }
 },
 "nbformat": 4,
 "nbformat_minor": 5
}

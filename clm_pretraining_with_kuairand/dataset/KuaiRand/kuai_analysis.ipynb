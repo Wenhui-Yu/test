{
 "cells": [
  {
   "cell_type": "markdown",
   "id": "02b2ce50-1bc6-4f44-a92f-9b00e0fb2d2c",
   "metadata": {},
   "source": [
    "## data analysis"
   ]
  },
  {
   "cell_type": "code",
   "execution_count": 3,
   "id": "326408b0-8908-4c32-bfad-fae367dcbe1b",
   "metadata": {},
   "outputs": [],
   "source": [
    "import pandas as pd\n",
    "\n",
    "import random\n",
    "import json\n",
    "\n",
    "import os"
   ]
  },
  {
   "cell_type": "code",
   "execution_count": 4,
   "id": "b8a7163c-d693-4633-b269-85db89bfaabd",
   "metadata": {},
   "outputs": [],
   "source": [
    "path_data_1 = './KuaiRand/log_standard_4_08_to_4_21_1k.csv'\n",
    "path_data_2 = './KuaiRand/log_standard_4_22_to_5_08_1k.csv'"
   ]
  },
  {
   "cell_type": "markdown",
   "id": "7d2e61ff-d1af-45e2-aa99-8c39d3d113e8",
   "metadata": {},
   "source": [
    "#### path_data_1"
   ]
  },
  {
   "cell_type": "code",
   "execution_count": 5,
   "id": "7b7366a6-08e4-4bc1-9f33-4c721f0fc05e",
   "metadata": {},
   "outputs": [
    {
     "data": {
      "text/html": [
       "<div>\n",
       "<style scoped>\n",
       "    .dataframe tbody tr th:only-of-type {\n",
       "        vertical-align: middle;\n",
       "    }\n",
       "\n",
       "    .dataframe tbody tr th {\n",
       "        vertical-align: top;\n",
       "    }\n",
       "\n",
       "    .dataframe thead th {\n",
       "        text-align: right;\n",
       "    }\n",
       "</style>\n",
       "<table border=\"1\" class=\"dataframe\">\n",
       "  <thead>\n",
       "    <tr style=\"text-align: right;\">\n",
       "      <th></th>\n",
       "      <th>user_id</th>\n",
       "      <th>video_id</th>\n",
       "      <th>time_ms</th>\n",
       "      <th>is_click</th>\n",
       "      <th>is_like</th>\n",
       "      <th>is_follow</th>\n",
       "      <th>is_comment</th>\n",
       "      <th>is_forward</th>\n",
       "      <th>long_view</th>\n",
       "      <th>tab</th>\n",
       "    </tr>\n",
       "  </thead>\n",
       "  <tbody>\n",
       "    <tr>\n",
       "      <th>5055979</th>\n",
       "      <td>999</td>\n",
       "      <td>694615</td>\n",
       "      <td>1650552207405</td>\n",
       "      <td>0</td>\n",
       "      <td>0</td>\n",
       "      <td>0</td>\n",
       "      <td>0</td>\n",
       "      <td>0</td>\n",
       "      <td>0</td>\n",
       "      <td>1</td>\n",
       "    </tr>\n",
       "    <tr>\n",
       "      <th>5055980</th>\n",
       "      <td>999</td>\n",
       "      <td>1240364</td>\n",
       "      <td>1650552207405</td>\n",
       "      <td>0</td>\n",
       "      <td>0</td>\n",
       "      <td>0</td>\n",
       "      <td>0</td>\n",
       "      <td>0</td>\n",
       "      <td>0</td>\n",
       "      <td>1</td>\n",
       "    </tr>\n",
       "    <tr>\n",
       "      <th>5055981</th>\n",
       "      <td>999</td>\n",
       "      <td>2514654</td>\n",
       "      <td>1650552207405</td>\n",
       "      <td>1</td>\n",
       "      <td>0</td>\n",
       "      <td>0</td>\n",
       "      <td>0</td>\n",
       "      <td>0</td>\n",
       "      <td>1</td>\n",
       "      <td>1</td>\n",
       "    </tr>\n",
       "    <tr>\n",
       "      <th>5055982</th>\n",
       "      <td>999</td>\n",
       "      <td>4214495</td>\n",
       "      <td>1650552339920</td>\n",
       "      <td>0</td>\n",
       "      <td>0</td>\n",
       "      <td>0</td>\n",
       "      <td>0</td>\n",
       "      <td>0</td>\n",
       "      <td>0</td>\n",
       "      <td>1</td>\n",
       "    </tr>\n",
       "    <tr>\n",
       "      <th>5055983</th>\n",
       "      <td>999</td>\n",
       "      <td>2897178</td>\n",
       "      <td>1650552339920</td>\n",
       "      <td>1</td>\n",
       "      <td>0</td>\n",
       "      <td>0</td>\n",
       "      <td>0</td>\n",
       "      <td>0</td>\n",
       "      <td>1</td>\n",
       "      <td>1</td>\n",
       "    </tr>\n",
       "  </tbody>\n",
       "</table>\n",
       "</div>"
      ],
      "text/plain": [
       "         user_id  video_id        time_ms  is_click  is_like  is_follow  \\\n",
       "5055979      999    694615  1650552207405         0        0          0   \n",
       "5055980      999   1240364  1650552207405         0        0          0   \n",
       "5055981      999   2514654  1650552207405         1        0          0   \n",
       "5055982      999   4214495  1650552339920         0        0          0   \n",
       "5055983      999   2897178  1650552339920         1        0          0   \n",
       "\n",
       "         is_comment  is_forward  long_view  tab  \n",
       "5055979           0           0          0    1  \n",
       "5055980           0           0          0    1  \n",
       "5055981           0           0          1    1  \n",
       "5055982           0           0          0    1  \n",
       "5055983           0           0          1    1  "
      ]
     },
     "execution_count": 5,
     "metadata": {},
     "output_type": "execute_result"
    }
   ],
   "source": [
    "# 1 path_data_1\n",
    "data_train = []\n",
    "cols = ['user_id', 'video_id', 'tab', 'time_ms',\n",
    "        'is_click', 'is_like', 'is_follow', 'is_comment', 'is_forward', 'long_view']\n",
    "raw_data_train = pd.read_csv(path_data_1, usecols=cols)\n",
    "raw_data_train.tail()"
   ]
  },
  {
   "cell_type": "code",
   "execution_count": 6,
   "id": "f3b8c584-d605-45b1-8d2e-55490a466731",
   "metadata": {},
   "outputs": [
    {
     "data": {
      "text/plain": [
       "5055984"
      ]
     },
     "execution_count": 6,
     "metadata": {},
     "output_type": "execute_result"
    }
   ],
   "source": [
    "len(raw_data_train)"
   ]
  },
  {
   "cell_type": "code",
   "execution_count": 14,
   "id": "0e814f1e-0d4f-40dc-972f-6e234c048fc5",
   "metadata": {},
   "outputs": [
    {
     "data": {
      "text/plain": [
       "0    3138050\n",
       "1    1917934\n",
       "Name: is_click, dtype: int64"
      ]
     },
     "execution_count": 14,
     "metadata": {},
     "output_type": "execute_result"
    }
   ],
   "source": [
    "raw_data_train['is_click'].value_counts()"
   ]
  },
  {
   "cell_type": "code",
   "execution_count": 15,
   "id": "350131ee-540f-4bbc-b245-318079cc9cb2",
   "metadata": {},
   "outputs": [
    {
     "data": {
      "text/plain": [
       "0    4979876\n",
       "1      76108\n",
       "Name: is_like, dtype: int64"
      ]
     },
     "execution_count": 15,
     "metadata": {},
     "output_type": "execute_result"
    }
   ],
   "source": [
    "raw_data_train['is_like'].value_counts()"
   ]
  },
  {
   "cell_type": "code",
   "execution_count": 16,
   "id": "013e1dd5-d34c-4699-82c2-a1945a817a7c",
   "metadata": {},
   "outputs": [
    {
     "data": {
      "text/plain": [
       "0    5050262\n",
       "1       5722\n",
       "Name: is_follow, dtype: int64"
      ]
     },
     "execution_count": 16,
     "metadata": {},
     "output_type": "execute_result"
    }
   ],
   "source": [
    "raw_data_train['is_follow'].value_counts()"
   ]
  },
  {
   "cell_type": "code",
   "execution_count": 17,
   "id": "776ef218-dae2-4c0f-9e62-b0b077fb01bd",
   "metadata": {},
   "outputs": [
    {
     "data": {
      "text/plain": [
       "0    5043593\n",
       "1      12391\n",
       "Name: is_comment, dtype: int64"
      ]
     },
     "execution_count": 17,
     "metadata": {},
     "output_type": "execute_result"
    }
   ],
   "source": [
    "raw_data_train['is_comment'].value_counts()"
   ]
  },
  {
   "cell_type": "code",
   "execution_count": 18,
   "id": "899d4015-0d6e-4350-9933-8657893f98d6",
   "metadata": {},
   "outputs": [
    {
     "data": {
      "text/plain": [
       "0    5052021\n",
       "1       3963\n",
       "Name: is_forward, dtype: int64"
      ]
     },
     "execution_count": 18,
     "metadata": {},
     "output_type": "execute_result"
    }
   ],
   "source": [
    "raw_data_train['is_forward'].value_counts()"
   ]
  },
  {
   "cell_type": "code",
   "execution_count": 19,
   "id": "c9b89e9f-42f7-4936-9ffc-f1e4aacbfd2f",
   "metadata": {},
   "outputs": [
    {
     "data": {
      "text/plain": [
       "0    3723921\n",
       "1    1332063\n",
       "Name: long_view, dtype: int64"
      ]
     },
     "execution_count": 19,
     "metadata": {},
     "output_type": "execute_result"
    }
   ],
   "source": [
    "raw_data_train['long_view'].value_counts()"
   ]
  },
  {
   "cell_type": "markdown",
   "id": "71058467-6397-42c1-bdd7-d7e84980fc6f",
   "metadata": {},
   "source": [
    "#### path_data_2"
   ]
  },
  {
   "cell_type": "code",
   "execution_count": 20,
   "id": "558074ad-f16e-4352-9a03-74db424707d2",
   "metadata": {},
   "outputs": [
    {
     "data": {
      "text/html": [
       "<div>\n",
       "<style scoped>\n",
       "    .dataframe tbody tr th:only-of-type {\n",
       "        vertical-align: middle;\n",
       "    }\n",
       "\n",
       "    .dataframe tbody tr th {\n",
       "        vertical-align: top;\n",
       "    }\n",
       "\n",
       "    .dataframe thead th {\n",
       "        text-align: right;\n",
       "    }\n",
       "</style>\n",
       "<table border=\"1\" class=\"dataframe\">\n",
       "  <thead>\n",
       "    <tr style=\"text-align: right;\">\n",
       "      <th></th>\n",
       "      <th>user_id</th>\n",
       "      <th>video_id</th>\n",
       "      <th>time_ms</th>\n",
       "      <th>is_click</th>\n",
       "      <th>is_like</th>\n",
       "      <th>is_follow</th>\n",
       "      <th>is_comment</th>\n",
       "      <th>is_forward</th>\n",
       "      <th>long_view</th>\n",
       "      <th>tab</th>\n",
       "    </tr>\n",
       "  </thead>\n",
       "  <tbody>\n",
       "    <tr>\n",
       "      <th>6657056</th>\n",
       "      <td>999</td>\n",
       "      <td>2257964</td>\n",
       "      <td>1652021025602</td>\n",
       "      <td>0</td>\n",
       "      <td>0</td>\n",
       "      <td>0</td>\n",
       "      <td>0</td>\n",
       "      <td>0</td>\n",
       "      <td>0</td>\n",
       "      <td>1</td>\n",
       "    </tr>\n",
       "    <tr>\n",
       "      <th>6657057</th>\n",
       "      <td>999</td>\n",
       "      <td>2922688</td>\n",
       "      <td>1652021025602</td>\n",
       "      <td>1</td>\n",
       "      <td>0</td>\n",
       "      <td>0</td>\n",
       "      <td>0</td>\n",
       "      <td>0</td>\n",
       "      <td>1</td>\n",
       "      <td>1</td>\n",
       "    </tr>\n",
       "    <tr>\n",
       "      <th>6657058</th>\n",
       "      <td>999</td>\n",
       "      <td>890727</td>\n",
       "      <td>1652021025602</td>\n",
       "      <td>0</td>\n",
       "      <td>0</td>\n",
       "      <td>0</td>\n",
       "      <td>0</td>\n",
       "      <td>0</td>\n",
       "      <td>0</td>\n",
       "      <td>1</td>\n",
       "    </tr>\n",
       "    <tr>\n",
       "      <th>6657059</th>\n",
       "      <td>999</td>\n",
       "      <td>4164425</td>\n",
       "      <td>1652021025602</td>\n",
       "      <td>1</td>\n",
       "      <td>0</td>\n",
       "      <td>0</td>\n",
       "      <td>0</td>\n",
       "      <td>0</td>\n",
       "      <td>1</td>\n",
       "      <td>1</td>\n",
       "    </tr>\n",
       "    <tr>\n",
       "      <th>6657060</th>\n",
       "      <td>999</td>\n",
       "      <td>2351450</td>\n",
       "      <td>1652021200418</td>\n",
       "      <td>1</td>\n",
       "      <td>0</td>\n",
       "      <td>0</td>\n",
       "      <td>0</td>\n",
       "      <td>0</td>\n",
       "      <td>0</td>\n",
       "      <td>1</td>\n",
       "    </tr>\n",
       "  </tbody>\n",
       "</table>\n",
       "</div>"
      ],
      "text/plain": [
       "         user_id  video_id        time_ms  is_click  is_like  is_follow  \\\n",
       "6657056      999   2257964  1652021025602         0        0          0   \n",
       "6657057      999   2922688  1652021025602         1        0          0   \n",
       "6657058      999    890727  1652021025602         0        0          0   \n",
       "6657059      999   4164425  1652021025602         1        0          0   \n",
       "6657060      999   2351450  1652021200418         1        0          0   \n",
       "\n",
       "         is_comment  is_forward  long_view  tab  \n",
       "6657056           0           0          0    1  \n",
       "6657057           0           0          1    1  \n",
       "6657058           0           0          0    1  \n",
       "6657059           0           0          1    1  \n",
       "6657060           0           0          0    1  "
      ]
     },
     "execution_count": 20,
     "metadata": {},
     "output_type": "execute_result"
    }
   ],
   "source": [
    "# 1 path_data_1\n",
    "cols = ['user_id', 'video_id', 'tab', 'time_ms',\n",
    "        'is_click', 'is_like', 'is_follow', 'is_comment', 'is_forward', 'long_view']\n",
    "raw_data_train_2 = pd.read_csv(path_data_2, usecols=cols)\n",
    "raw_data_train_2.tail()"
   ]
  },
  {
   "cell_type": "code",
   "execution_count": 21,
   "id": "e00b58bc-94c7-4b39-a21b-c0475a75736d",
   "metadata": {},
   "outputs": [
    {
     "data": {
      "text/plain": [
       "6657061"
      ]
     },
     "execution_count": 21,
     "metadata": {},
     "output_type": "execute_result"
    }
   ],
   "source": [
    "len(raw_data_train_2)"
   ]
  },
  {
   "cell_type": "code",
   "execution_count": 22,
   "id": "662e10a1-7088-42cd-9aeb-bb92a3aaa679",
   "metadata": {},
   "outputs": [
    {
     "data": {
      "text/plain": [
       "0    4145155\n",
       "1    2511906\n",
       "Name: is_click, dtype: int64"
      ]
     },
     "execution_count": 22,
     "metadata": {},
     "output_type": "execute_result"
    }
   ],
   "source": [
    "raw_data_train_2['is_click'].value_counts()"
   ]
  },
  {
   "cell_type": "code",
   "execution_count": 23,
   "id": "713229b6-581c-474d-ab8b-972b833d262c",
   "metadata": {},
   "outputs": [
    {
     "data": {
      "text/plain": [
       "0    6550327\n",
       "1     106734\n",
       "Name: is_like, dtype: int64"
      ]
     },
     "execution_count": 23,
     "metadata": {},
     "output_type": "execute_result"
    }
   ],
   "source": [
    "raw_data_train_2['is_like'].value_counts()"
   ]
  },
  {
   "cell_type": "code",
   "execution_count": 24,
   "id": "adc8ecdf-3612-42ea-9c04-505293a3c034",
   "metadata": {},
   "outputs": [
    {
     "data": {
      "text/plain": [
       "0    6651385\n",
       "1       5676\n",
       "Name: is_follow, dtype: int64"
      ]
     },
     "execution_count": 24,
     "metadata": {},
     "output_type": "execute_result"
    }
   ],
   "source": [
    "raw_data_train_2['is_follow'].value_counts()"
   ]
  },
  {
   "cell_type": "code",
   "execution_count": 25,
   "id": "22948604-d025-4578-9437-4f70fe895f31",
   "metadata": {},
   "outputs": [
    {
     "data": {
      "text/plain": [
       "0    6638326\n",
       "1      18735\n",
       "Name: is_comment, dtype: int64"
      ]
     },
     "execution_count": 25,
     "metadata": {},
     "output_type": "execute_result"
    }
   ],
   "source": [
    "raw_data_train_2['is_comment'].value_counts()"
   ]
  },
  {
   "cell_type": "code",
   "execution_count": 26,
   "id": "c8c86f16-c33a-4371-b859-2b88462c13bb",
   "metadata": {},
   "outputs": [
    {
     "data": {
      "text/plain": [
       "0    6651833\n",
       "1       5228\n",
       "Name: is_forward, dtype: int64"
      ]
     },
     "execution_count": 26,
     "metadata": {},
     "output_type": "execute_result"
    }
   ],
   "source": [
    "raw_data_train_2['is_forward'].value_counts()"
   ]
  },
  {
   "cell_type": "code",
   "execution_count": 27,
   "id": "79436e29-4c1d-4ba0-bc17-0610a695e2ce",
   "metadata": {},
   "outputs": [
    {
     "data": {
      "text/plain": [
       "0    4919663\n",
       "1    1737398\n",
       "Name: long_view, dtype: int64"
      ]
     },
     "execution_count": 27,
     "metadata": {},
     "output_type": "execute_result"
    }
   ],
   "source": [
    "raw_data_train_2['long_view'].value_counts()"
   ]
  },
  {
   "cell_type": "markdown",
   "id": "1b5c517c-44f0-4f29-8565-e59849961b18",
   "metadata": {},
   "source": [
    "### sum"
   ]
  },
  {
   "cell_type": "code",
   "execution_count": 31,
   "id": "6ab9ff00-81c9-4d2e-939c-c027d7682acf",
   "metadata": {},
   "outputs": [
    {
     "data": {
      "text/plain": [
       "11713045"
      ]
     },
     "execution_count": 31,
     "metadata": {},
     "output_type": "execute_result"
    }
   ],
   "source": [
    "exposure = len(raw_data_train) + len(raw_data_train_2)\n",
    "exposure"
   ]
  },
  {
   "cell_type": "code",
   "execution_count": 35,
   "id": "c367da3f-2ba6-4c05-b891-befffbf6c349",
   "metadata": {},
   "outputs": [
    {
     "data": {
      "text/plain": [
       "4429840"
      ]
     },
     "execution_count": 35,
     "metadata": {},
     "output_type": "execute_result"
    }
   ],
   "source": [
    "click = raw_data_train['is_click'].value_counts()[1] + raw_data_train_2['is_click'].value_counts()[1]\n",
    "click"
   ]
  },
  {
   "cell_type": "code",
   "execution_count": 36,
   "id": "1f8f44d7-0457-4f9b-a6d4-1da9295981c4",
   "metadata": {},
   "outputs": [
    {
     "data": {
      "text/plain": [
       "182842"
      ]
     },
     "execution_count": 36,
     "metadata": {},
     "output_type": "execute_result"
    }
   ],
   "source": [
    "is_like = raw_data_train['is_like'].value_counts()[1] + raw_data_train_2['is_like'].value_counts()[1]\n",
    "is_like"
   ]
  },
  {
   "cell_type": "code",
   "execution_count": 37,
   "id": "df2d5d2d-8034-4dc2-b8a3-beab7cdd6e10",
   "metadata": {},
   "outputs": [
    {
     "data": {
      "text/plain": [
       "11398"
      ]
     },
     "execution_count": 37,
     "metadata": {},
     "output_type": "execute_result"
    }
   ],
   "source": [
    "is_follow = raw_data_train['is_follow'].value_counts()[1] + raw_data_train_2['is_follow'].value_counts()[1]\n",
    "is_follow"
   ]
  },
  {
   "cell_type": "code",
   "execution_count": 38,
   "id": "a3d22129-c598-40f5-99a9-a02deb06232e",
   "metadata": {},
   "outputs": [
    {
     "data": {
      "text/plain": [
       "31126"
      ]
     },
     "execution_count": 38,
     "metadata": {},
     "output_type": "execute_result"
    }
   ],
   "source": [
    "is_comment = raw_data_train['is_comment'].value_counts()[1] + raw_data_train_2['is_comment'].value_counts()[1]\n",
    "is_comment"
   ]
  },
  {
   "cell_type": "code",
   "execution_count": 39,
   "id": "2ba9fdcc-1f74-4809-96ee-565f9dba10fd",
   "metadata": {},
   "outputs": [
    {
     "data": {
      "text/plain": [
       "9191"
      ]
     },
     "execution_count": 39,
     "metadata": {},
     "output_type": "execute_result"
    }
   ],
   "source": [
    "is_forward = raw_data_train['is_forward'].value_counts()[1] + raw_data_train_2['is_forward'].value_counts()[1]\n",
    "is_forward"
   ]
  },
  {
   "cell_type": "code",
   "execution_count": 40,
   "id": "3f210e46-d849-47b4-b169-78ef1a9b2f2b",
   "metadata": {},
   "outputs": [
    {
     "data": {
      "text/plain": [
       "3069461"
      ]
     },
     "execution_count": 40,
     "metadata": {},
     "output_type": "execute_result"
    }
   ],
   "source": [
    "long_view = raw_data_train['long_view'].value_counts()[1] + raw_data_train_2['long_view'].value_counts()[1]\n",
    "long_view"
   ]
  },
  {
   "cell_type": "code",
   "execution_count": null,
   "id": "4e1cc878-0ebb-4e67-9e35-75639427aae0",
   "metadata": {},
   "outputs": [],
   "source": []
  }
 ],
 "metadata": {
  "kernelspec": {
   "display_name": "Python 3 (ipykernel)",
   "language": "python",
   "name": "python3"
  },
  "language_info": {
   "codemirror_mode": {
    "name": "ipython",
    "version": 3
   },
   "file_extension": ".py",
   "mimetype": "text/x-python",
   "name": "python",
   "nbconvert_exporter": "python",
   "pygments_lexer": "ipython3",
   "version": "3.8.5"
  }
 },
 "nbformat": 4,
 "nbformat_minor": 5
}

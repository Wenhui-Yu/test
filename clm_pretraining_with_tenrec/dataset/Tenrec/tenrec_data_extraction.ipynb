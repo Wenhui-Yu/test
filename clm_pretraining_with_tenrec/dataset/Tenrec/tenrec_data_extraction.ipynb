{
 "cells": [
  {
   "cell_type": "code",
   "execution_count": 79,
   "id": "9b78c627-2921-4795-adf6-36ceecd3e3cb",
   "metadata": {},
   "outputs": [],
   "source": [
    "import pandas as pd\n",
    "\n",
    "import random\n",
    "import json\n",
    "\n",
    "import os"
   ]
  },
  {
   "cell_type": "code",
   "execution_count": 80,
   "id": "15131e89-ccc8-46e0-b820-aa2115266af8",
   "metadata": {},
   "outputs": [],
   "source": [
    "path_origin_data = './Tenrec/ctr_data_1M.csv'\n",
    "path_extraction_data = 'tenrec_dataset.json'"
   ]
  },
  {
   "cell_type": "code",
   "execution_count": 81,
   "id": "d916635d-8821-439f-ac59-ea470b7dbb55",
   "metadata": {},
   "outputs": [],
   "source": [
    "def filter_data_train_with_topk_user(data, selected_user_set):\n",
    "    new_data = []\n",
    "    for index, row in data_train.iterrows():\n",
    "        if row['user_id'] in selected_user_set:\n",
    "            new_data.append((int(row['user_id']), int(row['item_id']), int(row['click']), int(row['like']), int(row['follow']), int(row['share'])))\n",
    "        if index % 10000000 == 0:\n",
    "            print(\"step = \", index)\n",
    "    print (\"data_row: \", len(data), \", after filter, data_row=\", len(new_data))\n",
    "    return new_data\n",
    "\n",
    "\n",
    "# write json\n",
    "def write_data(path, data):\n",
    "    f = open(path, 'w')\n",
    "    jsObj = json.dumps(data)\n",
    "    f.write(jsObj)\n",
    "    f.close()"
   ]
  },
  {
   "cell_type": "code",
   "execution_count": 82,
   "id": "0fce299f-1080-4168-8072-6dc93c4a9814",
   "metadata": {},
   "outputs": [
    {
     "data": {
      "text/html": [
       "<div>\n",
       "<style scoped>\n",
       "    .dataframe tbody tr th:only-of-type {\n",
       "        vertical-align: middle;\n",
       "    }\n",
       "\n",
       "    .dataframe tbody tr th {\n",
       "        vertical-align: top;\n",
       "    }\n",
       "\n",
       "    .dataframe thead th {\n",
       "        text-align: right;\n",
       "    }\n",
       "</style>\n",
       "<table border=\"1\" class=\"dataframe\">\n",
       "  <thead>\n",
       "    <tr style=\"text-align: right;\">\n",
       "      <th></th>\n",
       "      <th>user_id</th>\n",
       "      <th>item_id</th>\n",
       "      <th>click</th>\n",
       "      <th>follow</th>\n",
       "      <th>like</th>\n",
       "      <th>share</th>\n",
       "    </tr>\n",
       "  </thead>\n",
       "  <tbody>\n",
       "    <tr>\n",
       "      <th>0</th>\n",
       "      <td>1</td>\n",
       "      <td>4</td>\n",
       "      <td>0</td>\n",
       "      <td>0</td>\n",
       "      <td>0</td>\n",
       "      <td>0</td>\n",
       "    </tr>\n",
       "    <tr>\n",
       "      <th>1</th>\n",
       "      <td>1</td>\n",
       "      <td>1201</td>\n",
       "      <td>1</td>\n",
       "      <td>0</td>\n",
       "      <td>0</td>\n",
       "      <td>0</td>\n",
       "    </tr>\n",
       "    <tr>\n",
       "      <th>2</th>\n",
       "      <td>1</td>\n",
       "      <td>250502</td>\n",
       "      <td>1</td>\n",
       "      <td>0</td>\n",
       "      <td>0</td>\n",
       "      <td>0</td>\n",
       "    </tr>\n",
       "    <tr>\n",
       "      <th>3</th>\n",
       "      <td>1</td>\n",
       "      <td>50885</td>\n",
       "      <td>1</td>\n",
       "      <td>0</td>\n",
       "      <td>0</td>\n",
       "      <td>0</td>\n",
       "    </tr>\n",
       "    <tr>\n",
       "      <th>4</th>\n",
       "      <td>1</td>\n",
       "      <td>16934</td>\n",
       "      <td>1</td>\n",
       "      <td>0</td>\n",
       "      <td>0</td>\n",
       "      <td>0</td>\n",
       "    </tr>\n",
       "    <tr>\n",
       "      <th>...</th>\n",
       "      <td>...</td>\n",
       "      <td>...</td>\n",
       "      <td>...</td>\n",
       "      <td>...</td>\n",
       "      <td>...</td>\n",
       "      <td>...</td>\n",
       "    </tr>\n",
       "    <tr>\n",
       "      <th>120342301</th>\n",
       "      <td>1000016</td>\n",
       "      <td>1362512</td>\n",
       "      <td>0</td>\n",
       "      <td>0</td>\n",
       "      <td>0</td>\n",
       "      <td>0</td>\n",
       "    </tr>\n",
       "    <tr>\n",
       "      <th>120342302</th>\n",
       "      <td>1000016</td>\n",
       "      <td>1377187</td>\n",
       "      <td>0</td>\n",
       "      <td>0</td>\n",
       "      <td>0</td>\n",
       "      <td>0</td>\n",
       "    </tr>\n",
       "    <tr>\n",
       "      <th>120342303</th>\n",
       "      <td>1000016</td>\n",
       "      <td>1353565</td>\n",
       "      <td>0</td>\n",
       "      <td>0</td>\n",
       "      <td>0</td>\n",
       "      <td>0</td>\n",
       "    </tr>\n",
       "    <tr>\n",
       "      <th>120342304</th>\n",
       "      <td>1000016</td>\n",
       "      <td>23121</td>\n",
       "      <td>0</td>\n",
       "      <td>0</td>\n",
       "      <td>0</td>\n",
       "      <td>0</td>\n",
       "    </tr>\n",
       "    <tr>\n",
       "      <th>120342305</th>\n",
       "      <td>1000016</td>\n",
       "      <td>9150</td>\n",
       "      <td>0</td>\n",
       "      <td>0</td>\n",
       "      <td>0</td>\n",
       "      <td>0</td>\n",
       "    </tr>\n",
       "  </tbody>\n",
       "</table>\n",
       "<p>120342306 rows × 6 columns</p>\n",
       "</div>"
      ],
      "text/plain": [
       "           user_id  item_id  click  follow  like  share\n",
       "0                1        4      0       0     0      0\n",
       "1                1     1201      1       0     0      0\n",
       "2                1   250502      1       0     0      0\n",
       "3                1    50885      1       0     0      0\n",
       "4                1    16934      1       0     0      0\n",
       "...            ...      ...    ...     ...   ...    ...\n",
       "120342301  1000016  1362512      0       0     0      0\n",
       "120342302  1000016  1377187      0       0     0      0\n",
       "120342303  1000016  1353565      0       0     0      0\n",
       "120342304  1000016    23121      0       0     0      0\n",
       "120342305  1000016     9150      0       0     0      0\n",
       "\n",
       "[120342306 rows x 6 columns]"
      ]
     },
     "execution_count": 82,
     "metadata": {},
     "output_type": "execute_result"
    }
   ],
   "source": [
    "cols = ['user_id', 'item_id', 'click', 'like', 'follow', 'share']\n",
    "raw_data_train = pd.read_csv(path_origin_data, usecols=cols)\n",
    "raw_data_train"
   ]
  },
  {
   "cell_type": "code",
   "execution_count": 83,
   "id": "39c7bed4-7557-4cb9-9a6d-b336a9394090",
   "metadata": {},
   "outputs": [
    {
     "name": "stdout",
     "output_type": "stream",
     "text": [
      "origin data len= 120342306\n"
     ]
    }
   ],
   "source": [
    "print (\"origin data len=\", len(raw_data_train))"
   ]
  },
  {
   "cell_type": "code",
   "execution_count": 84,
   "id": "9015504b-8f39-44eb-85eb-2b33598776cc",
   "metadata": {},
   "outputs": [],
   "source": [
    "data_train = raw_data_train"
   ]
  },
  {
   "cell_type": "code",
   "execution_count": 85,
   "id": "90a6f431-a978-4b78-b00b-f095ead1200c",
   "metadata": {},
   "outputs": [
    {
     "name": "stdout",
     "output_type": "stream",
     "text": [
      "item num = 2310087\n"
     ]
    }
   ],
   "source": [
    "# 0 data view\n",
    "print(\"item num =\", len(data_train['item_id'].unique()))"
   ]
  },
  {
   "cell_type": "code",
   "execution_count": 86,
   "id": "c7c07520-0e2a-44b3-a0bb-01cfcd0d1ded",
   "metadata": {},
   "outputs": [
    {
     "data": {
      "text/plain": [
       "0    91461446\n",
       "1    28880860\n",
       "Name: click, dtype: int64"
      ]
     },
     "execution_count": 86,
     "metadata": {},
     "output_type": "execute_result"
    }
   ],
   "source": [
    "data_train['click'].value_counts()"
   ]
  },
  {
   "cell_type": "code",
   "execution_count": 87,
   "id": "f0ff3011-e3e5-404a-8c7e-bae12358a2a5",
   "metadata": {},
   "outputs": [
    {
     "data": {
      "text/plain": [
       "0    120162518\n",
       "1       179788\n",
       "Name: follow, dtype: int64"
      ]
     },
     "execution_count": 87,
     "metadata": {},
     "output_type": "execute_result"
    }
   ],
   "source": [
    "data_train['follow'].value_counts()"
   ]
  },
  {
   "cell_type": "code",
   "execution_count": 88,
   "id": "1a8b7cae-e054-4b62-b5d1-b0bb5cee60fd",
   "metadata": {},
   "outputs": [
    {
     "data": {
      "text/plain": [
       "0    118066889\n",
       "1      2275417\n",
       "Name: like, dtype: int64"
      ]
     },
     "execution_count": 88,
     "metadata": {},
     "output_type": "execute_result"
    }
   ],
   "source": [
    "data_train['like'].value_counts()"
   ]
  },
  {
   "cell_type": "code",
   "execution_count": 89,
   "id": "1f62fbf7-5c06-4a8b-8921-0ca982d42c60",
   "metadata": {},
   "outputs": [
    {
     "data": {
      "text/plain": [
       "0    120092217\n",
       "1       250089\n",
       "Name: share, dtype: int64"
      ]
     },
     "execution_count": 89,
     "metadata": {},
     "output_type": "execute_result"
    }
   ],
   "source": [
    "data_train['share'].value_counts()"
   ]
  },
  {
   "cell_type": "code",
   "execution_count": 90,
   "id": "26fe6c23-93c7-4176-aeec-90c1686eefa4",
   "metadata": {},
   "outputs": [
    {
     "data": {
      "text/plain": [
       "array([      1,       2,       3, ..., 1000014, 1000015, 1000016])"
      ]
     },
     "execution_count": 90,
     "metadata": {},
     "output_type": "execute_result"
    }
   ],
   "source": [
    "# 1 select 50% user, fill in selected_user_set\n",
    "user_unique = data_train['user_id'].unique()\n",
    "user_unique"
   ]
  },
  {
   "cell_type": "code",
   "execution_count": 91,
   "id": "998ec38a-cb6a-4045-80f5-a28c908de0b2",
   "metadata": {},
   "outputs": [
    {
     "name": "stdout",
     "output_type": "stream",
     "text": [
      "user_num= 999447\n"
     ]
    }
   ],
   "source": [
    "user_num = len(user_unique)\n",
    "print (\"user_num=\", user_num)    "
   ]
  },
  {
   "cell_type": "code",
   "execution_count": 92,
   "id": "66cc2aa5-9c41-472c-a6e3-d4f55088231d",
   "metadata": {},
   "outputs": [
    {
     "data": {
      "text/plain": [
       "array([949303, 368327, 468129, ..., 609665, 560518, 400255])"
      ]
     },
     "execution_count": 92,
     "metadata": {},
     "output_type": "execute_result"
    }
   ],
   "source": [
    "random.shuffle(user_unique)\n",
    "user_unique"
   ]
  },
  {
   "cell_type": "code",
   "execution_count": 93,
   "id": "470a1c24-b838-4746-b903-539559639f37",
   "metadata": {},
   "outputs": [
    {
     "name": "stdout",
     "output_type": "stream",
     "text": [
      "topk= 99944\n"
     ]
    },
    {
     "data": {
      "text/plain": [
       "array([949303, 368327, 468129, ...,  55926, 563487, 793237])"
      ]
     },
     "execution_count": 93,
     "metadata": {},
     "output_type": "execute_result"
    }
   ],
   "source": [
    "topk = int(user_num/10)\n",
    "print (\"topk=\", topk)\n",
    "selected_user_list = user_unique[:topk]\n",
    "selected_user_list"
   ]
  },
  {
   "cell_type": "code",
   "execution_count": 94,
   "id": "c94ea86a-3ad3-4dbc-96ea-813a16d7e67b",
   "metadata": {},
   "outputs": [
    {
     "name": "stdout",
     "output_type": "stream",
     "text": [
      "len(selected_user_set)= 99944\n"
     ]
    }
   ],
   "source": [
    "selected_user_set = set(selected_user_list)\n",
    "print (\"len(selected_user_set)=\",  len(selected_user_set))"
   ]
  },
  {
   "cell_type": "code",
   "execution_count": 95,
   "id": "c10348f5-a256-42da-b2f1-887a934a8283",
   "metadata": {},
   "outputs": [
    {
     "name": "stdout",
     "output_type": "stream",
     "text": [
      "step =  0\n",
      "step =  10000000\n",
      "step =  20000000\n",
      "step =  30000000\n",
      "step =  40000000\n",
      "step =  50000000\n",
      "step =  60000000\n",
      "step =  70000000\n",
      "step =  80000000\n",
      "step =  90000000\n",
      "step =  100000000\n",
      "step =  110000000\n",
      "step =  120000000\n",
      "data_row:  120342306 , after filter, data_row= 12031351\n"
     ]
    }
   ],
   "source": [
    "# 2 use selected_user_set filter data & add list\n",
    "filter_tenrec_dataset_list = filter_data_train_with_topk_user(data_train, selected_user_set)"
   ]
  },
  {
   "cell_type": "code",
   "execution_count": 96,
   "id": "8e0949f9-be32-4c2d-abf7-07dc03506b6f",
   "metadata": {},
   "outputs": [
    {
     "name": "stdout",
     "output_type": "stream",
     "text": [
      "write success\n"
     ]
    }
   ],
   "source": [
    "# 3 wirte train data\n",
    "write_data(path_extraction_data, filter_tenrec_dataset_list)\n",
    "print (\"write success\")"
   ]
  },
  {
   "cell_type": "code",
   "execution_count": 97,
   "id": "13596369-83ac-4322-8d52-475fcd9993cd",
   "metadata": {},
   "outputs": [],
   "source": [
    "# 4 other: analysis filter_tenrec_dataset_list \n",
    "path_writed_data = 'tenrec_dataset.json'"
   ]
  },
  {
   "cell_type": "code",
   "execution_count": 98,
   "id": "0e4557cc-e7c9-4764-a668-12d6608b7b9b",
   "metadata": {},
   "outputs": [
    {
     "name": "stdout",
     "output_type": "stream",
     "text": [
      "confirm data, log_num= 12031351\n"
     ]
    },
    {
     "data": {
      "text/plain": [
       "[[1, 4, 0, 0, 0, 0], [1, 1201, 1, 0, 0, 0], [1, 250502, 1, 0, 0, 0]]"
      ]
     },
     "execution_count": 98,
     "metadata": {},
     "output_type": "execute_result"
    }
   ],
   "source": [
    "with open(path_writed_data) as f:\n",
    "    line = f.readline()\n",
    "    data = json.loads(line)\n",
    "    f.close()\n",
    "    log_num = len(data)\n",
    "print(\"confirm data, log_num=\",log_num)\n",
    "data[:3]\n"
   ]
  },
  {
   "cell_type": "code",
   "execution_count": 99,
   "id": "6e2b1a3f-cad7-45c4-a5a3-47d386d1d733",
   "metadata": {},
   "outputs": [
    {
     "name": "stdout",
     "output_type": "stream",
     "text": [
      "len(analysis_data)= 12031351\n"
     ]
    },
    {
     "data": {
      "text/plain": [
       "0    9136583\n",
       "1    2894768\n",
       "Name: click, dtype: int64"
      ]
     },
     "execution_count": 99,
     "metadata": {},
     "output_type": "execute_result"
    }
   ],
   "source": [
    "analysis_data=pd.DataFrame(data, columns=['user_id', 'item_id', 'click', 'like', 'follow', 'share'])\n",
    "print (\"len(analysis_data)=\", len(analysis_data))\n",
    "analysis_data['click'].value_counts()"
   ]
  },
  {
   "cell_type": "code",
   "execution_count": 100,
   "id": "af2b8b26-f5fb-430c-bcd7-2e13e3fc1144",
   "metadata": {},
   "outputs": [
    {
     "data": {
      "text/plain": [
       "0    11801429\n",
       "1      229922\n",
       "Name: like, dtype: int64"
      ]
     },
     "execution_count": 100,
     "metadata": {},
     "output_type": "execute_result"
    }
   ],
   "source": [
    "analysis_data['like'].value_counts()"
   ]
  },
  {
   "cell_type": "code",
   "execution_count": 102,
   "id": "887b5361-a580-4848-a327-46674ac13226",
   "metadata": {},
   "outputs": [
    {
     "data": {
      "text/plain": [
       "0    12013124\n",
       "1       18227\n",
       "Name: follow, dtype: int64"
      ]
     },
     "execution_count": 102,
     "metadata": {},
     "output_type": "execute_result"
    }
   ],
   "source": [
    "analysis_data['follow'].value_counts()"
   ]
  },
  {
   "cell_type": "code",
   "execution_count": 103,
   "id": "06ac32dc-d122-490f-82fd-7aa319034c94",
   "metadata": {},
   "outputs": [
    {
     "data": {
      "text/plain": [
       "0    12006256\n",
       "1       25095\n",
       "Name: share, dtype: int64"
      ]
     },
     "execution_count": 103,
     "metadata": {},
     "output_type": "execute_result"
    }
   ],
   "source": [
    "analysis_data['share'].value_counts()"
   ]
  },
  {
   "cell_type": "code",
   "execution_count": 104,
   "id": "78896d94-e8cc-4e1f-835f-f65dd04b28f8",
   "metadata": {},
   "outputs": [
    {
     "data": {
      "text/html": [
       "<div>\n",
       "<style scoped>\n",
       "    .dataframe tbody tr th:only-of-type {\n",
       "        vertical-align: middle;\n",
       "    }\n",
       "\n",
       "    .dataframe tbody tr th {\n",
       "        vertical-align: top;\n",
       "    }\n",
       "\n",
       "    .dataframe thead th {\n",
       "        text-align: right;\n",
       "    }\n",
       "</style>\n",
       "<table border=\"1\" class=\"dataframe\">\n",
       "  <thead>\n",
       "    <tr style=\"text-align: right;\">\n",
       "      <th></th>\n",
       "      <th>user_id</th>\n",
       "      <th>item_id</th>\n",
       "      <th>click</th>\n",
       "      <th>like</th>\n",
       "      <th>follow</th>\n",
       "      <th>share</th>\n",
       "    </tr>\n",
       "  </thead>\n",
       "  <tbody>\n",
       "    <tr>\n",
       "      <th>0</th>\n",
       "      <td>1</td>\n",
       "      <td>4</td>\n",
       "      <td>0</td>\n",
       "      <td>0</td>\n",
       "      <td>0</td>\n",
       "      <td>0</td>\n",
       "    </tr>\n",
       "    <tr>\n",
       "      <th>1</th>\n",
       "      <td>1</td>\n",
       "      <td>1201</td>\n",
       "      <td>1</td>\n",
       "      <td>0</td>\n",
       "      <td>0</td>\n",
       "      <td>0</td>\n",
       "    </tr>\n",
       "    <tr>\n",
       "      <th>2</th>\n",
       "      <td>1</td>\n",
       "      <td>250502</td>\n",
       "      <td>1</td>\n",
       "      <td>0</td>\n",
       "      <td>0</td>\n",
       "      <td>0</td>\n",
       "    </tr>\n",
       "    <tr>\n",
       "      <th>3</th>\n",
       "      <td>1</td>\n",
       "      <td>50885</td>\n",
       "      <td>1</td>\n",
       "      <td>0</td>\n",
       "      <td>0</td>\n",
       "      <td>0</td>\n",
       "    </tr>\n",
       "    <tr>\n",
       "      <th>4</th>\n",
       "      <td>1</td>\n",
       "      <td>16934</td>\n",
       "      <td>1</td>\n",
       "      <td>0</td>\n",
       "      <td>0</td>\n",
       "      <td>0</td>\n",
       "    </tr>\n",
       "  </tbody>\n",
       "</table>\n",
       "</div>"
      ],
      "text/plain": [
       "   user_id  item_id  click  like  follow  share\n",
       "0        1        4      0     0       0      0\n",
       "1        1     1201      1     0       0      0\n",
       "2        1   250502      1     0       0      0\n",
       "3        1    50885      1     0       0      0\n",
       "4        1    16934      1     0       0      0"
      ]
     },
     "execution_count": 104,
     "metadata": {},
     "output_type": "execute_result"
    }
   ],
   "source": [
    "analysis_data.head()"
   ]
  },
  {
   "cell_type": "code",
   "execution_count": 105,
   "id": "22d7fca0-4079-47d2-a7a0-30c155eb61b4",
   "metadata": {},
   "outputs": [
    {
     "name": "stdout",
     "output_type": "stream",
     "text": [
      "item num = 920113\n"
     ]
    }
   ],
   "source": [
    "print(\"item num =\", len(analysis_data['item_id'].unique()))"
   ]
  },
  {
   "cell_type": "code",
   "execution_count": 106,
   "id": "53c4593a-1828-454f-8f0d-6c9b83bdc9ad",
   "metadata": {},
   "outputs": [
    {
     "name": "stdout",
     "output_type": "stream",
     "text": [
      "user num = 99944\n"
     ]
    }
   ],
   "source": [
    "print(\"user num =\", len(analysis_data['user_id'].unique()))"
   ]
  },
  {
   "cell_type": "code",
   "execution_count": null,
   "id": "3b79f2be-f0ba-4378-aaa4-f04230c673d5",
   "metadata": {},
   "outputs": [],
   "source": []
  }
 ],
 "metadata": {
  "kernelspec": {
   "display_name": "Python 3 (ipykernel)",
   "language": "python",
   "name": "python3"
  },
  "language_info": {
   "codemirror_mode": {
    "name": "ipython",
    "version": 3
   },
   "file_extension": ".py",
   "mimetype": "text/x-python",
   "name": "python",
   "nbconvert_exporter": "python",
   "pygments_lexer": "ipython3",
   "version": "3.8.5"
  }
 },
 "nbformat": 4,
 "nbformat_minor": 5
}

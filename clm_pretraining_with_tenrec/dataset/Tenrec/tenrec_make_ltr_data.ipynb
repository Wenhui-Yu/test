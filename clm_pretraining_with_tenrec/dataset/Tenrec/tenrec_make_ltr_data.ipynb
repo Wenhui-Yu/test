{
 "cells": [
  {
   "cell_type": "code",
   "execution_count": 1,
   "id": "180d321f-4245-4a2e-848e-b3a8b9e11750",
   "metadata": {},
   "outputs": [],
   "source": [
    "import pandas as pd\n",
    "\n",
    "import random\n",
    "import json\n",
    "\n",
    "import os"
   ]
  },
  {
   "cell_type": "code",
   "execution_count": 2,
   "id": "6e554865-544e-4c52-acbb-066d72ae54e0",
   "metadata": {},
   "outputs": [],
   "source": [
    "# train index\n",
    "# row -> [(item_id, index_time_ms, click, like, follow, forward, pltr, pwtr, pftr), ()]\n",
    "def index_encoding_item(ltr_sample):\n",
    "    item_id_set = set()\n",
    "    for sample in ltr_sample:\n",
    "        for item in sample:\n",
    "            item_id_set.add(item[0])\n",
    "    print (\"item number=\" ,len(item_id_set))\n",
    "    \n",
    "    item_num2id = list(item_id_set)\n",
    "    item_num2id.sort()\n",
    "\n",
    "    item_id2num = {}\n",
    "    for num in range(0, len(item_id_set)):\n",
    "        item_id2num[item_num2id[num]] = num\n",
    "\n",
    "    ltr_sample_number = []\n",
    "    for sample in ltr_sample:\n",
    "        ltr_sample_single_item = []\n",
    "        for (item_id, index_time_ms, click, like, follow, forward, pltr, pwtr, pftr) in sample:\n",
    "            ltr_sample_single_item.append([item_id2num[item_id], index_time_ms, click, like, follow, forward, pltr, pwtr, pftr])\n",
    "        ltr_sample_number.append(ltr_sample_single_item)\n",
    "\n",
    "    ltr_sample = ltr_sample_number\n",
    "    return ltr_sample, item_id2num"
   ]
  },
  {
   "cell_type": "code",
   "execution_count": 3,
   "id": "14dafacb-af8f-4987-ac47-88c497df83f3",
   "metadata": {},
   "outputs": [],
   "source": [
    "# filter test \n",
    "def filter_test_data(ltr_sample, item_id2num):\n",
    "    new_data = []\n",
    "    for sample in ltr_sample:\n",
    "        new_data_single_item = []\n",
    "        for (item_id, index_time_ms, click, like, follow, forward, pltr, pwtr, pftr) in sample:\n",
    "            if item_id in item_id2num:\n",
    "                new_data_single_item.append([item_id2num[item_id], index_time_ms, click, like, follow, forward, pltr, pwtr, pftr])\n",
    "        new_data.append(new_data_single_item)\n",
    "\n",
    "    return new_data\n",
    "\n",
    "# write json\n",
    "def write_data(path, data):\n",
    "    f = open(path, 'w')\n",
    "    jsObj = json.dumps(data)\n",
    "    f.write(jsObj)\n",
    "    f.close()"
   ]
  },
  {
   "cell_type": "code",
   "execution_count": 4,
   "id": "c15ca1db-915c-4619-a1ad-fa6d1bc78bdc",
   "metadata": {},
   "outputs": [
    {
     "name": "stdout",
     "output_type": "stream",
     "text": [
      "sample number= 6338947 , data_path= ../CLM/clm_pretraining_with_tenrec/dataset/Tenrec/tenrec_ltr_data.json\n",
      "data[:2]= [[0, 2, 0, 0, 0, 0, 0.00061925, 0.00015654, 0.00080008], [0, 679, 1, 0, 0, 0, 0.00080245, 0.0001548, 0.0007834]]\n"
     ]
    }
   ],
   "source": [
    "DIR = '../CLM/clm_pretraining_with_tenrec/dataset/Tenrec/'\n",
    "origin_ltr_data_path = DIR + 'tenrec_ltr_data.json'  # NOTE: data with user time seq\n",
    "\n",
    "path_ltr_train = DIR + 'tenrec_ltr_data_train.json'\n",
    "path_ltr_test = DIR + 'tenrec_ltr_data_test.json'\n",
    "\n",
    "# 1 load data\n",
    "with open(origin_ltr_data_path) as f:\n",
    "    line = f.readline()\n",
    "    data = json.loads(line)\n",
    "f.close()\n",
    "row_num = len(data)\n",
    "print (\"sample number=\", row_num, \", data_path=\", origin_ltr_data_path)\n",
    "print(\"data[:2]=\", data[:2])"
   ]
  },
  {
   "cell_type": "code",
   "execution_count": 5,
   "id": "d239fb3b-cc42-4392-a045-7a4051a005e3",
   "metadata": {},
   "outputs": [
    {
     "name": "stdout",
     "output_type": "stream",
     "text": [
      "user_num= 56751\n"
     ]
    }
   ],
   "source": [
    "# 1 N user && N user_history_list\n",
    "\n",
    "user_set = set()\n",
    "for (user_id, item_id, click, like, follow, forward, pltr, pwtr, pftr) in data:\n",
    "    user_set.add(user_id)\n",
    "user_num = len(user_set)\n",
    "print(\"user_num=\", user_num) "
   ]
  },
  {
   "cell_type": "code",
   "execution_count": 6,
   "id": "4863eb1e-8363-4f4e-876d-2d67d438dc69",
   "metadata": {},
   "outputs": [
    {
     "name": "stdout",
     "output_type": "stream",
     "text": [
      "step= 1000000\n",
      "step= 2000000\n",
      "step= 3000000\n",
      "step= 4000000\n",
      "step= 5000000\n",
      "step= 6000000\n"
     ]
    }
   ],
   "source": [
    "user_history_list = []\n",
    "for i in range(user_num):\n",
    "    user_history_list.append([])\n",
    "index_time_ms = 0\n",
    "for (user_id, item_id, click, like, follow, forward, pltr, pwtr, pftr) in data:\n",
    "    user_history_list[user_id].append([item_id, index_time_ms, click, like, follow, forward, pltr, pwtr, pftr])\n",
    "    index_time_ms = index_time_ms + 1\n",
    "    if index_time_ms % 1000000 == 0:\n",
    "        print (\"step=\", index_time_ms)\n",
    "# user_history_list[0]"
   ]
  },
  {
   "cell_type": "code",
   "execution_count": 7,
   "id": "65d2601a-3938-4ef8-a2a8-891595d73cf2",
   "metadata": {},
   "outputs": [],
   "source": [
    "# 2 user_history_list sort by time_ms\n",
    "# row -> [（item_id, index_time_ms, click, like, follow, forward, pltr, pwtr, pftr）, (), () ..]\n",
    "user_history_list_by_time = []\n",
    "for row in user_history_list:\n",
    "    sorted_row = sorted(row, key=lambda x: x[1])\n",
    "    user_history_list_by_time.append(row)"
   ]
  },
  {
   "cell_type": "code",
   "execution_count": 8,
   "id": "003d8c9b-b523-4800-8fae-5b37fdfe9f1a",
   "metadata": {},
   "outputs": [
    {
     "name": "stdout",
     "output_type": "stream",
     "text": [
      "length= 10  num= 5\n",
      "len(sorted_dict)= 613\n"
     ]
    }
   ],
   "source": [
    "# 3  count distribution\n",
    "dic_action_list_length = {}\n",
    "for row in user_history_list_by_time:\n",
    "    length = len(row)\n",
    "    try: dic_action_list_length[length] += 1\n",
    "    except: dic_action_list_length[length] = 1\n",
    "\n",
    "sorted_keys = sorted(dic_action_list_length.keys())\n",
    "\n",
    "sorted_dict = {}\n",
    "for key in sorted_keys:\n",
    "    sorted_dict[key] = dic_action_list_length[key]\n",
    "\n",
    "for key, value in sorted_dict.items():\n",
    "    print (\"length=\", key, \" num=\", value)\n",
    "    break\n",
    "print (\"len(sorted_dict)=\", len(sorted_dict))"
   ]
  },
  {
   "cell_type": "code",
   "execution_count": 9,
   "id": "1d1cf9a4-a96c-4b9f-9253-d3a26e172be9",
   "metadata": {},
   "outputs": [
    {
     "name": "stdout",
     "output_type": "stream",
     "text": [
      "ation_list length: 0-10 num: 5 , ratio: 8.8e-05\n",
      "ation_list length: 10-20 num: 695 , ratio: 0.012246\n",
      "ation_list length: 20-50 num: 10931 , ratio: 0.192613\n",
      "ation_list length: 50-100 num: 334 , ratio: 0.005885\n",
      "ation_list length: 100-200 num: 17599 , ratio: 0.310109\n",
      "ation_list length: 200-300 num: 4817 , ratio: 0.08488\n",
      "ation_list length: 300-400 num: 1334 , ratio: 0.023506\n",
      "ation_list length: 400-500 num: 461 , ratio: 0.008123\n",
      "ation_list length: 500-1000 num: 188 , ratio: 0.003313\n",
      "ation_list length: 1000-2000 num: 2 , ratio: 3.5e-05\n"
     ]
    }
   ],
   "source": [
    "dic_table = {}\n",
    "for key, value in sorted_dict.items():\n",
    "    if (key <= 10):\n",
    "        try:dic_table['0-10'] += value;\n",
    "        except: dic_table['0-10'] = value\n",
    "    elif (key <= 20):\n",
    "        try:dic_table['10-20'] += value;\n",
    "        except: dic_table['10-20'] = value\n",
    "    elif (key <= 50):\n",
    "        try:dic_table['20-50'] += value;\n",
    "        except: dic_table['20-50'] = value\n",
    "    elif (key <= 100):\n",
    "        try:dic_table['50-200'] += value;\n",
    "        except: dic_table['50-100'] = value\n",
    "    elif (key <= 200):\n",
    "        try:dic_table['100-200'] += value;\n",
    "        except: dic_table['100-200'] = value\n",
    "    elif (key <= 300):\n",
    "        try:dic_table['200-300'] += value;\n",
    "        except: dic_table['200-300'] = value\n",
    "    elif (key <= 400):\n",
    "        try:dic_table['300-400'] += value;\n",
    "        except: dic_table['300-400'] = value\n",
    "    elif (key <= 500):\n",
    "        try:dic_table['400-500'] += value;\n",
    "        except: dic_table['400-500'] = value\n",
    "    elif (key <= 1000):\n",
    "        try:dic_table['500-1000'] += value;\n",
    "        except: dic_table['500-1000'] = value\n",
    "    elif (key <= 2000):\n",
    "        try:dic_table['1000-2000'] += value;\n",
    "        except: dic_table['1000-2000'] = value\n",
    "    elif (key <= 2500):\n",
    "        try:dic_table['2000-2500'] += value;\n",
    "        except: dic_table['2000-2500'] = value\n",
    "    elif (key <= 6000):\n",
    "        try:dic_table['2500-6000'] += value;\n",
    "        except: dic_table['2500-6000'] = value\n",
    "\n",
    "for key, value in dic_table.items():\n",
    "    print(\"ation_list length:\", key, \"num:\", value, \", ratio:\", round(value/user_num,6))"
   ]
  },
  {
   "cell_type": "code",
   "execution_count": 10,
   "id": "3eb361d0-b202-4654-9f11-8531857ae642",
   "metadata": {},
   "outputs": [
    {
     "name": "stdout",
     "output_type": "stream",
     "text": [
      "len(user_history_list_by_time)= 56751\n",
      "step= 50 , candidate_set_size= 100 , len(ltr_sample)= 84939\n"
     ]
    }
   ],
   "source": [
    "# 4 set & step=\n",
    "# row -> [（item_id, index_time_ms, click, like, follow, forward, pltr, pwtr, pftr）, (), () ..]\n",
    "ltr_sample = []\n",
    "candidate_set_size = 100\n",
    "step = 50\n",
    "for row in user_history_list_by_time:\n",
    "    length = len(row)\n",
    "\n",
    "    if length <= candidate_set_size:\n",
    "        ltr_sample.append(row)\n",
    "    else:\n",
    "        start = 0\n",
    "        end = candidate_set_size\n",
    "        while end <= length:\n",
    "            ltr_sample.append(row[start:end])\n",
    "            start = start+step\n",
    "            end = start+candidate_set_size\n",
    "print(\"len(user_history_list_by_time)=\", len(user_history_list_by_time))\n",
    "print(\"step=\", step, \", candidate_set_size=\", candidate_set_size ,\", len(ltr_sample)=\", len(ltr_sample))\n",
    "        "
   ]
  },
  {
   "cell_type": "code",
   "execution_count": 11,
   "id": "96f31897-a89e-49e5-90a5-65d0a12fd318",
   "metadata": {},
   "outputs": [],
   "source": [
    "# 5 shuffle\n",
    "random.shuffle(ltr_sample)"
   ]
  },
  {
   "cell_type": "code",
   "execution_count": 12,
   "id": "bf501549-e73e-4b37-a402-6e2ceb471e8c",
   "metadata": {},
   "outputs": [
    {
     "name": "stdout",
     "output_type": "stream",
     "text": [
      "sample_number= 84939 , train_number= 76437 , test_number= 8502\n",
      "len(train_data_ltr_sample)= 76437 , len(test_data_ltr_sample)= 8502\n"
     ]
    }
   ],
   "source": [
    "# 6 spilte train:test= 9: 1\n",
    "sample_number = len(ltr_sample)\n",
    "train_number = int(len(ltr_sample) / 10) * 9\n",
    "test_number = sample_number - train_number\n",
    "print (\"sample_number=\",sample_number, \", train_number=\", train_number, \", test_number=\", test_number)\n",
    "\n",
    "train_data_ltr_sample = ltr_sample[0:train_number]\n",
    "test_data_ltr_sample = ltr_sample[train_number:]\n",
    "\n",
    "print (\"len(train_data_ltr_sample)=\", len(train_data_ltr_sample), \", len(test_data_ltr_sample)=\", len(test_data_ltr_sample))"
   ]
  },
  {
   "cell_type": "code",
   "execution_count": 13,
   "id": "3f132a82-0fad-4101-b27b-97e44f4ba197",
   "metadata": {},
   "outputs": [],
   "source": [
    "# train_data_ltr_sample[0]"
   ]
  },
  {
   "cell_type": "code",
   "execution_count": 14,
   "id": "43eee345-460d-4520-aef1-b874fd071feb",
   "metadata": {},
   "outputs": [
    {
     "name": "stdout",
     "output_type": "stream",
     "text": [
      "item number= 37453\n"
     ]
    }
   ],
   "source": [
    "# 7 train index\n",
    "train_data_ltr_sample, item_id2num = index_encoding_item(train_data_ltr_sample)"
   ]
  },
  {
   "cell_type": "code",
   "execution_count": 15,
   "id": "aa96aff9-dd8c-497e-8b74-596c15bedad2",
   "metadata": {},
   "outputs": [
    {
     "name": "stdout",
     "output_type": "stream",
     "text": [
      "test sample number= 8502\n"
     ]
    }
   ],
   "source": [
    "# 8 test item filter\n",
    "test_data_ltr_sample = filter_test_data(test_data_ltr_sample, item_id2num)\n",
    "print (\"test sample number=\", len(test_data_ltr_sample))\n",
    "# test_data_ltr_sample[0]"
   ]
  },
  {
   "cell_type": "code",
   "execution_count": 16,
   "id": "7f85a356-a499-49c3-b755-e1933aa7b8f8",
   "metadata": {},
   "outputs": [
    {
     "name": "stdout",
     "output_type": "stream",
     "text": [
      "write success\n"
     ]
    }
   ],
   "source": [
    "write_data(path_ltr_train, train_data_ltr_sample)\n",
    "write_data(path_ltr_test, test_data_ltr_sample)\n",
    "print(\"write success\")"
   ]
  },
  {
   "cell_type": "code",
   "execution_count": null,
   "id": "54118fbd-3621-4473-b07f-33cc6ce361ac",
   "metadata": {},
   "outputs": [],
   "source": []
  }
 ],
 "metadata": {
  "kernelspec": {
   "display_name": "Python 3 (ipykernel)",
   "language": "python",
   "name": "python3"
  },
  "language_info": {
   "codemirror_mode": {
    "name": "ipython",
    "version": 3
   },
   "file_extension": ".py",
   "mimetype": "text/x-python",
   "name": "python",
   "nbconvert_exporter": "python",
   "pygments_lexer": "ipython3",
   "version": "3.8.5"
  }
 },
 "nbformat": 4,
 "nbformat_minor": 5
}
